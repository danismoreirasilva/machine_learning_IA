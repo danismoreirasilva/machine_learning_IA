{
  "nbformat": 4,
  "nbformat_minor": 0,
  "metadata": {
    "colab": {
      "provenance": [],
      "authorship_tag": "ABX9TyOkPPANSO6hJWu4LnpGz8wb",
      "include_colab_link": true
    },
    "kernelspec": {
      "name": "python3",
      "display_name": "Python 3"
    },
    "language_info": {
      "name": "python"
    }
  },
  "cells": [
    {
      "cell_type": "markdown",
      "metadata": {
        "id": "view-in-github",
        "colab_type": "text"
      },
      "source": [
        "<a href=\"https://colab.research.google.com/github/danismoreirasilva/aulaGit/blob/main/classifica_vinho.ipynb\" target=\"_parent\"><img src=\"https://colab.research.google.com/assets/colab-badge.svg\" alt=\"Open In Colab\"/></a>"
      ]
    },
    {
      "cell_type": "markdown",
      "source": [
        "#Classificação de Vinhos\n",
        "\n",
        "Para criar um agrupamento de células de código, criar uma área de textos que comece com hashtag #\n",
        "Para grupos internos deste agrupamento criar uma área de textos com ## (2 hashtags)",
        "Atualizado para testes em 07/03/2023"
      ],
      "metadata": {
        "id": "HgL6EU2KxCjk"
      }
    },
    {
      "cell_type": "markdown",
      "source": [
        "## ETL Process - Load Data"
      ],
      "metadata": {
        "id": "QbmNYoB8xe5M"
      }
    },
    {
      "cell_type": "code",
      "execution_count": 10,
      "metadata": {
        "colab": {
          "base_uri": "https://localhost:8080/"
        },
        "id": "dWVHmSUToqn_",
        "outputId": "aac110ee-43be-45a1-dd56-bcb09bc6b398"
      },
      "outputs": [
        {
          "output_type": "stream",
          "name": "stdout",
          "text": [
            "Drive already mounted at /content/drive; to attempt to forcibly remount, call drive.mount(\"/content/drive\", force_remount=True).\n"
          ]
        }
      ],
      "source": [
        "from google.colab import drive\n",
        "drive.mount('/content/drive')"
      ]
    },
    {
      "cell_type": "code",
      "source": [
        "import pandas as pd\n",
        "\n",
        "df = pd.read_csv('/content/drive/MyDrive/Doutorado UFSC/Machine Learning e Deepen Learning/Datasets/wine_dataset.csv')"
      ],
      "metadata": {
        "id": "AXYPGDvJpbaR"
      },
      "execution_count": 11,
      "outputs": []
    },
    {
      "cell_type": "code",
      "source": [
        "#apresenta os primeiros 5 registros\n",
        "df.head()"
      ],
      "metadata": {
        "id": "EXX8UXCdsbbf"
      },
      "execution_count": null,
      "outputs": []
    },
    {
      "cell_type": "code",
      "source": [
        "#apresenta os últimos 5 registros\n",
        "df.tail()"
      ],
      "metadata": {
        "id": "6iciWXFmpxq4"
      },
      "execution_count": null,
      "outputs": []
    },
    {
      "cell_type": "code",
      "source": [
        "#separando as variaveis independentes (X) da variável target, algo, (y)\n",
        "#X = df.iloc[:,0:12]\n",
        "#y = df.iloc[:,12:]\n",
        "#y"
      ],
      "metadata": {
        "id": "DBcL6FYGsrXk"
      },
      "execution_count": null,
      "outputs": []
    },
    {
      "cell_type": "code",
      "source": [
        "#type(X), type(y), type(X.values)\n",
        "#por ser DF preciso transformar os valore em array -  X.values"
      ],
      "metadata": {
        "id": "kHCJck-o2qVh"
      },
      "execution_count": null,
      "outputs": []
    },
    {
      "cell_type": "code",
      "source": [
        "#tratando os dados para a classificação da variavél nominal ser 1 ou 0\n",
        "\n",
        "df['style'] = df['style'].replace('red', 0)\n",
        "df['style'] = df['style'].replace('white', 1)\n",
        "\n",
        "df.head()\n"
      ],
      "metadata": {
        "id": "s5PyTTQh2dsH"
      },
      "execution_count": null,
      "outputs": []
    },
    {
      "cell_type": "code",
      "source": [
        "#separando as variaveis independentes (X) da variável target, algo, (y)\n",
        "\n",
        "y = df['style']\n",
        "\n",
        "#axis = 1 significa que a operação é nas colunas\n",
        "X = df.drop(['style'], axis = 1)\n",
        "\n",
        "X"
      ],
      "metadata": {
        "id": "fzqR7u9Mb7Ie"
      },
      "execution_count": null,
      "outputs": []
    },
    {
      "cell_type": "code",
      "source": [
        "#tamanho do dataset\n",
        "# resultado é um par com linhas e colunas (6497, 13)\n",
        "#6497 linhas\n",
        "#13 colunas\n",
        "\n",
        "df.shape"
      ],
      "metadata": {
        "id": "lccYhPusecX8"
      },
      "execution_count": null,
      "outputs": []
    },
    {
      "cell_type": "code",
      "source": [
        "# são 6497 linhas e 12 colunas na variável X porque ela tem apenas as variáveis independentes (preditoras)\n",
        "X.shape\n",
        "\n",
        "y.shape"
      ],
      "metadata": {
        "id": "yMCLs6CKe7hs"
      },
      "execution_count": null,
      "outputs": []
    },
    {
      "cell_type": "markdown",
      "source": [
        "## Separação dos Conjuntos de Treinamento e Testes"
      ],
      "metadata": {
        "id": "03GQZNc01WGR"
      }
    },
    {
      "cell_type": "code",
      "source": [
        "from sklearn.model_selection import train_test_split\n",
        "\n",
        "#randmon state=0, ele separa os dados sempre da mesma forma. 20% para teste e 80% treinamento.\n",
        "\n",
        "X_treino, X_teste, y_treino, y_teste = train_test_split(X.values, y.values, test_size = 0.2, random_state=0)\n"
      ],
      "metadata": {
        "id": "LYGDdZzT1dUi"
      },
      "execution_count": 26,
      "outputs": []
    },
    {
      "cell_type": "code",
      "source": [
        "#aqui verifica a quantidade registros no treino e no teste de X\n",
        "X_treino.shape, X_teste.shape\n"
      ],
      "metadata": {
        "id": "-t5FsMmf5tjA"
      },
      "execution_count": null,
      "outputs": []
    },
    {
      "cell_type": "code",
      "source": [
        "#aqui verifica a quantidade registros no treino e no teste de y\n",
        "y_treino.shape, y_teste.shape"
      ],
      "metadata": {
        "id": "k0YY9kLZfvBd"
      },
      "execution_count": null,
      "outputs": []
    },
    {
      "cell_type": "markdown",
      "source": [
        "## Criando o Modelo\n",
        "\n",
        "Função fit para passar as funções de treinamento ao modelo, e realizar o treinamento.\n",
        "\n",
        "Métido predic para analisar a predição, utilizando o conjunto de teste.\n",
        "\n",
        "para modelos de regressão utiliza a métrica R2score, o % da distancia dos pontos\n",
        "previstos com os valores corretos"
      ],
      "metadata": {
        "id": "t0N8UvAB7CZ3"
      }
    },
    {
      "cell_type": "code",
      "source": [
        "from sklearn.ensemble import ExtraTreesClassifier\n",
        "\n",
        "#arvore de decisao\n",
        "modelo = ExtraTreesClassifier()\n",
        "modelo.fit(X_treino, y_treino)"
      ],
      "metadata": {
        "id": "yanuerOo7S0n",
        "colab": {
          "base_uri": "https://localhost:8080/"
        },
        "outputId": "8928bf7b-f0bd-4155-a230-fc1636e5d595"
      },
      "execution_count": 38,
      "outputs": [
        {
          "output_type": "execute_result",
          "data": {
            "text/plain": [
              "ExtraTreesClassifier()"
            ]
          },
          "metadata": {},
          "execution_count": 38
        }
      ]
    },
    {
      "cell_type": "code",
      "source": [
        "#fazendo as predições\n",
        "y_predito = modelo.predict(X_teste)\n",
        "y_predito"
      ],
      "metadata": {
        "colab": {
          "base_uri": "https://localhost:8080/"
        },
        "id": "dr5EoZwTkPgU",
        "outputId": "8395fde3-5d8e-4b25-ef48-93ed678cdea9"
      },
      "execution_count": 41,
      "outputs": [
        {
          "output_type": "execute_result",
          "data": {
            "text/plain": [
              "array([1, 1, 1, ..., 0, 1, 1])"
            ]
          },
          "metadata": {},
          "execution_count": 41
        }
      ]
    },
    {
      "cell_type": "code",
      "source": [
        "#métricas de avaliação do modelo\n",
        "#from sklearn.metrics import r2_score\n",
        "from sklearn import metrics\n",
        "\n",
        "\n",
        "resultado = modelo.score(X_teste, y_teste)\n",
        "print(\"A acurácia do modelo é: \", resultado)\n",
        "\n",
        "r2score = r2_score(y_teste,y_predito)\n",
        "print('A métrica R2score é: ', r2score )\n",
        "print('Precisão de: ' + str(metrics.precision_score(y_teste,y_predito)))"
      ],
      "metadata": {
        "colab": {
          "base_uri": "https://localhost:8080/"
        },
        "id": "0yGQQQWFi5vL",
        "outputId": "9d35ad27-5c37-4d34-8bae-0422ef8ecc66"
      },
      "execution_count": 45,
      "outputs": [
        {
          "output_type": "stream",
          "name": "stdout",
          "text": [
            "A acurácia do modelo é:  0.9961538461538462\n",
            "A métrica R2score é:  0.9788672178529744\n",
            "Precisão de: 0.9979757085020243\n"
          ]
        }
      ]
    }
  ]
}
