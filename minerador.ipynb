{
  "nbformat": 4,
  "nbformat_minor": 0,
  "metadata": {
    "colab": {
      "provenance": [],
      "mount_file_id": "1ZTaca_8WXRjEMxnYMmJskFviqGsaiX-K",
      "authorship_tag": "ABX9TyPl8bnzlO3LPnOgePYUV3d9",
      "include_colab_link": true
    },
    "kernelspec": {
      "name": "python3",
      "display_name": "Python 3"
    },
    "language_info": {
      "name": "python"
    }
  },
  "cells": [
    {
      "cell_type": "markdown",
      "metadata": {
        "id": "view-in-github",
        "colab_type": "text"
      },
      "source": [
        "<a href=\"https://colab.research.google.com/github/danismoreirasilva/machine_learning_IA/blob/main/minerador.ipynb\" target=\"_parent\"><img src=\"https://colab.research.google.com/assets/colab-badge.svg\" alt=\"Open In Colab\"/></a>"
      ]
    },
    {
      "cell_type": "markdown",
      "source": [
        "# Mineração de textos com Python"
      ],
      "metadata": {
        "id": "4Crj_VR4suCO"
      }
    },
    {
      "cell_type": "markdown",
      "source": [
        "## Importar as bibliotecas"
      ],
      "metadata": {
        "id": "DCvNdLGFtTpG"
      }
    },
    {
      "cell_type": "code",
      "execution_count": 1,
      "metadata": {
        "id": "zC0NedW2sF4G"
      },
      "outputs": [],
      "source": [
        "import nltk\n",
        "from nltk.corpus import stopwords\n",
        "from nltk.probability import FreqDist\n",
        "from wordcloud import WordCloud\n",
        "import string"
      ]
    },
    {
      "cell_type": "markdown",
      "source": [
        "## Abertura do arquivo"
      ],
      "metadata": {
        "id": "ONpqr3uftzB1"
      }
    },
    {
      "cell_type": "code",
      "source": [
        "texto = open('/content/drive/MyDrive/Mineração de Textos - Python/discurso_obama_globo.txt',mode = 'r', encoding='utf-8').read()"
      ],
      "metadata": {
        "id": "HwdRnuQNs0ir"
      },
      "execution_count": 2,
      "outputs": []
    },
    {
      "cell_type": "markdown",
      "source": [
        "## Normalização dos dados\n",
        "\n",
        "\n",
        "*   Transformando o texto em minúsculo\n",
        "*   Remover a pontuação\n",
        "*   Remover as stopwords\n",
        "*   Tokenir o texto\n",
        "\n"
      ],
      "metadata": {
        "id": "j9ul4rvBuU6m"
      }
    },
    {
      "cell_type": "code",
      "source": [
        "# Transformação do texto para minusculo\n",
        "texto = texto.lower()\n",
        "print(texto)"
      ],
      "metadata": {
        "id": "gh_yvze8uru9"
      },
      "execution_count": null,
      "outputs": []
    },
    {
      "cell_type": "code",
      "source": [
        "#remover a pontuação\n",
        "texto_sem_pontuacao = ''.join([p for p in texto if p not in string.punctuation])\n",
        "print(texto_sem_pontuacao)"
      ],
      "metadata": {
        "id": "lVWTRro3vDTF"
      },
      "execution_count": null,
      "outputs": []
    },
    {
      "cell_type": "code",
      "source": [
        "#para tokenização\n",
        "nltk.download('punkt')"
      ],
      "metadata": {
        "colab": {
          "base_uri": "https://localhost:8080/"
        },
        "id": "Sqtkf-PfvZy2",
        "outputId": "4d26e5e6-c4d5-4966-a06f-be2e0e3d1162"
      },
      "execution_count": 6,
      "outputs": [
        {
          "output_type": "stream",
          "name": "stderr",
          "text": [
            "[nltk_data] Downloading package punkt to /root/nltk_data...\n",
            "[nltk_data]   Unzipping tokenizers/punkt.zip.\n"
          ]
        },
        {
          "output_type": "execute_result",
          "data": {
            "text/plain": [
              "True"
            ]
          },
          "metadata": {},
          "execution_count": 6
        }
      ]
    },
    {
      "cell_type": "code",
      "source": [
        "#tokenizar\n",
        "tokenizacao_palavras = nltk.word_tokenize(texto_sem_pontuacao)\n",
        "print(tokenizacao_palavras)"
      ],
      "metadata": {
        "colab": {
          "base_uri": "https://localhost:8080/"
        },
        "id": "bxZgS2U3vst1",
        "outputId": "00362fea-94e6-486f-c63f-58894dcc5795"
      },
      "execution_count": 7,
      "outputs": [
        {
          "output_type": "stream",
          "name": "stdout",
          "text": [
            "['desde', 'o', 'momento', 'em', 'que', 'chegamos', 'o', 'povo', 'desta', 'nação', 'tem', 'gentilmente', 'mostrado', 'à', 'minha', 'família', 'o', 'calor', 'e', 'a', 'generosidade', 'do', 'espírito', 'brasileiro', 'obrigado', 'quero', 'agradecer', 'a', 'todos', 'por', 'estarem', 'aqui', 'pois', 'me', 'disseram', 'que', 'há', 'um', 'jogo', 'do', 'vasco', 'ou', 'do', 'botafogo', 'eu', 'sei', 'que', 'os', 'brasileiros', 'não', 'abrem', 'mão', 'de', 'seu', 'futebol', 'tão', 'facilmente', 'uma', 'das', 'primeiras', 'impressões', 'que', 'tive', 'do', 'brasil', 'veio', 'de', 'um', 'filme', 'que', 'vi', 'com', 'minha', 'mãe', 'quando', 'eu', 'era', 'muito', 'pequeno', 'um', 'filme', 'chamado', 'orfeu', 'negro', 'que', 'se', 'passava', 'nas', 'favelas', 'durante', 'o', 'carnaval', 'e', 'minha', 'mãe', 'adorava', 'aquele', 'filme', 'tinha', 'música', 'e', 'dança', 'e', 'como', 'pano', 'de', 'fundo', 'os', 'lindos', 'morros', 'verdes', 'esse', 'filme', 'estreou', 'primeiramente', 'como', 'uma', 'peça', 'bem', 'aqui', 'no', 'theatro', 'municipal', 'minha', 'mãe', 'já', 'faleceu', 'mas', 'ela', 'jamais', 'imaginaria', 'que', 'a', 'primeira', 'viagem', 'de', 'seu', 'filho', 'ao', 'brasil', 'seria', 'como', 'presidente', 'dos', 'eua', 'ela', 'jamais', 'imaginaria', 'isso', 'e', 'eu', 'jamais', 'imaginaria', 'que', 'este', 'país', 'seria', 'ainda', 'mais', 'bonito', 'do', 'que', 'no', 'filme', 'vocês', 'são', 'como', 'cantor', 'jorge', 'benjor', 'diz', '“', 'um', 'país', 'tropical', 'abençoado', 'por', 'deus', 'e', 'bonito', 'por', 'natureza', '”', 'vi', 'essa', 'beleza', 'nas', 'encostas', 'dos', 'morros', 'nas', 'infindáveis', 'milhas', 'de', 'areia', 'e', 'oceano', 'e', 'nas', 'vibrantes', 'e', 'diversificadas', 'multidões', 'de', 'brasileiros', 'que', 'vieram', 'aqui', 'hoje', 'e', 'nós', 'temos', 'um', 'grupo', 'maravilhosamente', 'misturado', 'cariocas', 'paulistas', 'baianos', 'mineiros', 'temos', 'homens', 'e', 'mulheres', 'das', 'cidades', 'até', 'o', 'interior', 'e', 'tanta', 'gente', 'jovem', 'aqui', 'que', 'são', 'o', 'grande', 'futuro', 'desta', 'grande', 'nação', 'ontem', 'tive', 'um', 'encontro', 'com', 'sua', 'maravilhosa', 'nova', 'presidente', 'dilma', 'rousseff', 'e', 'conversamos', 'sobre', 'como', 'fortalecer', 'a', 'parceria', 'entre', 'nossos', 'governos', 'mas', 'hoje', 'quero', 'falar', 'diretamente', 'com', 'o', 'povo', 'brasileiro', 'sobre', 'como', 'podemos', 'fortalecer', 'a', 'amizade', 'entre', 'nossos', 'países', 'vim', 'aqui', 'para', 'compartilhar', 'algumas', 'ideias', 'pois', 'quero', 'falar', 'sobre', 'os', 'valores', 'que', 'compartilhamos', 'as', 'esperanças', 'que', 'temos', 'em', 'comum', 'e', 'a', 'diferença', 'que', 'podemos', 'fazer', 'juntos', 'se', 'você', 'parar', 'para', 'pensar', 'as', 'jornadas', 'dos', 'eua', 'e', 'do', 'brasil', 'começaram', 'de', 'formas', 'parecidas', 'são', 'duas', 'terras', 'com', 'abundantes', 'recursos', 'naturais', 'terras', 'natais', 'de', 'povos', 'indígenas', 'antiquíssimos', 'as', 'américas', 'foram', 'descobertas', 'por', 'homens', 'que', 'vieram', 'do', 'outro', 'lado', 'do', 'oceano', 'como', 'um', '“', 'novo', 'mundo', '”', 'e', 'colonizadas', 'pelos', 'pioneiros', 'que', 'ampliaram', 'os', 'territórios', 'rumo', 'ao', 'oeste', 'atravessando', 'imensas', 'fronteiras', 'nos', 'tornamos', 'colônias', 'dominadas', 'por', 'coroas', 'distantes', 'mas', 'logo', 'declaramos', 'nossa', 'independência', 'e', 'em', 'seguida', 'recebemos', 'grandes', 'quantidades', 'de', 'imigrantes', 'em', 'nossas', 'costas', 'e', 'mais', 'tarde', 'depois', 'de', 'muita', 'luta', 'limpamos', 'a', 'mancha', 'da', 'escravidão', 'de', 'nossas', 'terras', 'os', 'eua', 'foram', 'a', '1ª', 'nação', 'a', 'reconhecer', 'a', 'independência', 'do', 'brasil', 'e', 'a', '1ª', 'a', 'estabelecer', 'um', 'posto', 'diplomático', 'neste', 'país', 'o', 'primeiro', 'líder', 'de', 'um', 'país', 'a', 'visitar', 'os', 'eua', 'foi', 'dom', 'pedro', 'ii', 'na', 'segunda', 'guerra', 'mundial', 'nossos', 'corajosos', 'homens', 'e', 'mulheres', 'lutaram', 'lado', 'a', 'lado', 'pela', 'liberdade', 'e', 'depois', 'da', 'guerra', 'nossas', 'duas', 'nações', 'lutaram', 'para', 'conseguir', 'as', 'bênçãos', 'plenas', 'da', 'liberdade', 'nas', 'ruas', 'dos', 'eua', 'homens', 'e', 'mulheres', 'marcharam', 'e', 'sangraram', 'e', 'alguns', 'até', 'morreram', 'para', 'que', 'todos', 'os', 'cidadãos', 'pudessem', 'usufruir', 'das', 'mesmas', 'liberdades', 'e', 'oportunidades', 'não', 'importa', 'como', 'fosse', 'sua', 'aparência', 'não', 'importa', 'de', 'onde', 'você', 'viesse', 'no', 'brasil', 'vocês', 'lutaram', 'contra', 'duas', 'décadas', 'de', 'ditadura', 'lutando', 'pelo', 'mesmo', 'direito', 'de', 'ser', 'ouvidos', 'o', 'direito', 'de', 'ser', 'livres', 'livres', 'do', 'medo', 'livres', 'da', 'necessidade', 'e', 'mesmo', 'assim', 'durante', 'anos', 'a', 'democracia', 'e', 'o', 'desenvolvimento', 'demoraram', 'a', 'se', 'estabelecer', 'e', 'milhões', 'sofreram', 'por', 'causa', 'disso', 'mas', 'venho', 'aqui', 'hoje', 'porque', 'esses', 'dias', 'passaram', 'hoje', 'o', 'brasil', 'é', 'uma', 'democracia', 'desabrochando', 'um', 'lugar', 'onde', 'as', 'pessoas', 'são', 'livres', 'para', 'falar', 'o', 'que', 'pensam', 'e', 'escolher', 'seus', 'líderes', 'e', 'onde', 'um', 'garoto', 'pobre', 'de', 'pernambuco', 'pode', 'sair', 'de', 'uma', 'fábrica', 'de', 'cobre', 'e', 'chegar', 'ao', 'gabinete', 'mais', 'elevado', 'no', 'país', 'na', 'última', 'década', 'o', 'progresso', 'feito', 'pelo', 'povo', 'brasileiro', 'inspirou', 'o', 'mundo', 'pois', 'hoje', 'metade', 'deste', 'país', 'é', 'considerado', 'classe', 'média', 'milhões', 'foram', 'retirados', 'da', 'pobreza', 'pela', 'primeira', 'vez', 'a', 'esperança', 'está', 'voltando', 'a', 'lugares', 'onde', 'antes', 'prevalecia', 'o', 'medo', 'eu', 'vi', 'isso', 'hoje', 'quando', 'visitei', 'a', 'cidade', 'de', 'deus', 'não', 'se', 'trata', 'apenas', 'dos', 'novos', 'esforços', 'com', 'segurança', 'e', 'programas', 'sociais', 'e', 'quero', 'dar', 'os', 'parabéns', 'ao', 'prefeito', 'e', 'ao', 'governador', 'pelo', 'excelente', 'trabalho', 'que', 'estão', 'fazendo', 'mas', 'também', 'é', 'uma', 'mudança', 'de', 'atitude', 'como', 'um', 'jovem', 'morador', 'disse', 'as', 'pessoas', 'não', 'devem', 'olhar', 'a', 'favela', 'com', 'pena', 'mas', 'como', 'uma', 'fonte', 'de', 'presidentes', 'advogados', 'médicos', 'artistas', 'e', 'pessoas', 'com', 'soluções', 'a', 'cada', 'dia', 'que', 'passa', 'o', 'brasil', 'é', 'um', 'país', 'com', 'mais', 'soluções', 'na', 'comunidade', 'global', 'vocês', 'passaram', 'de', 'contar', 'com', 'o', 'ajuda', 'de', 'outros', 'países', 'a', 'agora', 'ajudar', 'a', 'lutar', 'contra', 'a', 'pobreza', 'e', 'a', 'doença', 'onde', 'quer', 'que', 'elas', 'existam', 'vocês', 'desempenham', 'um', 'papel', 'importante', 'nas', 'instituições', 'globais', 'ao', 'promover', 'nossa', 'segurança', 'como', 'um', 'todo', 'e', 'nossa', 'prosperidade', 'como', 'um', 'todo', 'e', 'vocês', 'receberão', 'o', 'mundo', 'em', 'seu', 'país', 'quando', 'a', 'copa', 'do', 'mundo', 'e', 'os', 'jogos', 'olímpicos', 'vierem', 'ao', 'rio', 'de', 'janeiro', 'vocês', 'sabem', 'que', 'esta', 'cidade', 'não', 'foi', 'minha', 'primeira', 'escolha', 'para', 'os', 'jogos', 'olímpicos', 'mas', 'se', 'os', 'jogos', 'não', 'pudessem', 'ser', 'realizados', 'em', 'chicago', 'não', 'tem', 'lugar', 'em', 'que', 'eu', 'gostaria', 'mais', 'de', 'vêlos', 'do', 'que', 'aqui', 'no', 'rio', 'por', 'isso', 'pretendo', 'voltar', 'em', '2016', 'para', 'ver', 'o', 'que', 'acontece', 'o', 'brasil', 'foi', 'durante', 'muito', 'tempo', 'um', 'país', 'cheio', 'de', 'potencial', 'mas', 'atrasado', 'pela', 'política', 'tanto', 'aqui', 'quanto', 'no', 'exterior', 'durante', 'muito', 'tempo', 'o', 'brasil', 'foi', 'o', '“', 'país', 'do', 'futuro', '”', 'e', 'disseram', 'para', 'que', 'ele', 'esperasse', 'pelos', 'dias', 'melhores', 'que', 'viriam', 'em', 'breve', 'meus', 'amigos', 'este', 'dia', 'finalmente', 'chegou', 'este', 'não', 'é', 'mais', 'o', '“', 'país', 'do', 'futuro', '”', 'as', 'pessoas', 'do', 'brasil', 'devem', 'saber', 'que', 'o', 'futuro', 'já', 'chegou', 'e', 'está', 'aqui', 'agora', 'é', 'hora', 'de', 'tomar', 'posse', 'dele', 'nossos', 'países', 'nem', 'sempre', 'concordaram', 'em', 'tudo', 'e', 'assim', 'como', 'ocorre', 'com', 'muitas', 'nações', 'teremos', 'nossas', 'diferenças', 'de', 'opinião', 'ao', 'avançar', 'mas', 'estou', 'aqui', 'para', 'lhes', 'dizer', 'que', 'o', 'povo', 'americano', 'não', 'apenas', 'reconhece', 'o', 'sucesso', 'do', 'brasil', 'nós', 'torcemos', 'pelo', 'sucesso', 'do', 'brasil', 'enquanto', 'vocês', 'confrontam', 'os', 'muitos', 'desafios', 'que', 'ainda', 'enfrentam', 'em', 'casa', 'e', 'no', 'exterior', 'vamos', 'ficar', 'juntos', 'não', 'são', 'como', 'parceiros', 'sênior', 'e', 'júnior', 'mas', 'como', 'parceiros', 'iguais', 'unidos', 'pelo', 'espírito', 'do', 'interesse', 'comum', 'e', 'do', 'respeito', 'mútuo', 'comprometidos', 'para', 'com', 'o', 'progresso', 'que', 'sei', 'que', 'podermos', 'fazer', 'juntos', 'tenho', 'certeza', 'de', 'que', 'podemos', 'fazer', 'isso', 'juntos', 'podemos', 'aumentar', 'nossa', 'prosperidade', 'em', 'comum', 'sendo', 'duas', 'das', 'maiores', 'economias', 'do', 'mundo', 'trabalhamos', 'lado', 'a', 'lado', 'durante', 'a', 'crise', 'financeira', 'para', 'restaurar', 'o', 'crescimento', 'e', 'confiança', 'e', 'para', 'manter', 'nossas', 'economias', 'crescendo', 'sabemos', 'do', 'que', 'é', 'necessário', 'em', 'ambas', 'as', 'nações', 'precisamos', 'de', 'uma', 'força', 'de', 'trabalho', 'capacitada', 'e', 'é', 'por', 'isso', 'que', 'empresas', 'brasileiras', 'e', 'americanas', 'assumiram', 'um', 'compromisso', 'de', 'aumentar', 'o', 'intercâmbio', 'de', 'estudantes', 'entre', 'nossas', 'nações', 'precisamos', 'de', 'um', 'compromisso', 'com', 'a', 'inovação', 'e', 'a', 'tecnologia', 'por', 'isso', 'concordamos', 'em', 'aumentar', 'a', 'cooperação', 'entre', 'nossos', 'cientistas', 'pesquisadores', 'e', 'engenheiros', 'precisamos', 'de', 'infra', 'estrutura', 'da', 'mais', 'alta', 'qualidade', 'e', 'por', 'isso', 'as', 'empresas', 'americanas', 'também', 'querem', 'ajudálos', 'a', 'construir', 'e', 'preparar', 'a', 'cidade', 'para', 'o', 'sucesso', 'olímpico', 'numa', 'economia', 'globalizada', 'os', 'eua', 'e', 'o', 'brasil', 'deveriam', 'expandir', 'o', 'comércio', 'expandir', 'investimentos', 'de', 'modo', 'a', 'criar', 'novos', 'empregos', 'e', 'novas', 'oportunidades', 'em', 'ambas', 'nossas', 'nações', 'por', 'isso', 'estamos', 'trabalhando', 'para', 'derrubar', 'barreiras', 'para', 'fazer', 'negócios', 'por', 'isso', 'estamos', 'criando', 'relacionamentos', 'mais', 'próximos', 'entre', 'nossos', 'trabalhadores', 'e', 'nossos', 'empreendedores', 'juntos', 'também', 'podemos', 'trabalhar', 'pela', 'segurança', 'da', 'energia', 'e', 'proteger', 'nosso', 'lindo', 'planeta', 'sendo', 'dois', 'países', 'comprometidos', 'com', 'economias', 'mais', 'verdes', 'sabemos', 'que', 'a', 'solução', 'definitiva', 'ao', 'desafio', 'da', 'energia', 'virá', 'da', 'criação', 'de', 'fontes', 'de', 'energias', 'limpas', 'e', 'renováveis', 'por', 'isso', 'a', 'metade', 'dos', 'carros', 'daqui', 'podem', 'circular', 'com', 'biocombustível', 'e', 'a', 'maior', 'parte', 'de', 'sua', 'eletricidade', 'vem', 'de', 'hidroelétricas', 'e', 'por', 'isso', 'também', 'demos', 'início', 'a', 'uma', 'nova', 'indústria', 'limpa', 'de', 'energia', 'nos', 'eua', 'por', 'isso', 'os', 'eua', 'e', 'o', 'brasil', 'estão', 'criando', 'novas', 'parcerias', 'na', 'área', 'de', 'energia', 'para', 'compartilhar', 'criar', 'novos', 'empregos', 'e', 'deixar', 'para', 'nossos', 'filhos', 'um', 'mundo', 'mais', 'limpo', 'e', 'mais', 'seguro', 'do', 'que', 'encontramos', 'juntas', 'nossas', 'duas', 'nações', 'também', 'podem', 'ajudar', 'a', 'defender', 'a', 'segurança', 'de', 'nosso', 'cidadãos', 'estamos', 'trabalhando', 'juntos', 'para', 'deter', 'o', 'narcotráfico', 'que', 'destruiu', 'vidas', 'demais', 'neste', 'hemisfério', 'buscamos', 'o', 'objetivo', 'de', 'um', 'mundo', 'sem', 'armas', 'nucleares', 'estamos', 'trabalhando', 'juntos', 'para', 'aumentar', 'nossa', 'segurança', 'ente', 'hemisférios', 'da', 'áfrica', 'ao', 'haiti', 'estamos', 'trabalhando', 'lado', 'a', 'lado', 'para', 'combater', 'a', 'fome', 'doença', 'e', 'corrupção', 'que', 'podem', 'apodrecer', 'uma', 'sociedade', 'e', 'roubar', 'seres', 'humanos', 'de', 'sua', 'dignidade', 'e', 'oportunidades', 'sendo', 'dois', 'países', 'que', 'foram', 'tão', 'enriquecidos', 'pela', 'herança', 'africana', 'é', 'vital', 'que', 'trabalhemos', 'juntos', 'com', 'o', 'continente', 'africano', 'para', 'ajudálo', 'a', 'se', 'erguer', 'é', 'algo', 'que', 'devemos', 'nos', 'comprometer', 'a', 'fazer', 'juntos', 'hoje', 'também', 'estamos', 'dando', 'apoio', 'e', 'ajuda', 'ao', 'povo', 'japonês', 'em', 'sua', 'maior', 'hora', 'de', 'necessidade', 'os', 'laços', 'que', 'unem', 'nossa', 'nação', 'ao', 'japão', 'são', 'fortes', 'o', 'brasil', 'é', 'o', 'lar', 'da', 'maior', 'população', 'japonesa', 'fora', 'do', 'japão', 'nos', 'eua', 'solidificamos', 'uma', 'aliança', 'com', 'eles', 'que', 'já', 'tem', 'mais', 'de', '60', 'anos', 'os', 'japoneses', 'são', 'alguns', 'de', 'nossos', 'amigos', 'mais', 'próximos', 'e', 'ficaremos', 'ao', 'lado', 'deles', 'rezaremos', 'com', 'eles', 'e', 'reconstruiremos', 'com', 'eles', 'até', 'que', 'essa', 'crise', 'esteja', 'terminada', 'nestes', 'e', 'em', 'outros', 'esforços', 'para', 'promover', 'paz', 'e', 'prosperidade', 'no', 'mundo', 'todo', 'os', 'eua', 'e', 'o', 'brasil', 'são', 'parceiros', 'não', 'apenas', 'porque', 'compartilhamos', 'história', 'ou', 'por', 'estarmos', 'no', 'mesmo', 'hemisfério', 'não', 'apenas', 'por', 'compartilharmos', 'laços', 'de', 'comércio', 'e', 'cultura', 'mas', 'também', 'porque', 'compartilhamos', 'de', 'valores', 'e', 'ideais', 'duradouros', 'ambos', 'acreditamos', 'no', 'poder', 'e', 'na', 'promessa', 'da', 'democracia', 'acreditamos', 'que', 'nenhuma', 'forma', 'de', 'governo', 'é', 'mais', 'eficaz', 'na', 'promoção', 'de', 'crescimento', 'e', 'prosperidade', 'que', 'alcança', 'todo', 'ser', 'humano', 'não', 'apenas', 'alguns', 'mas', 'todos', 'e', 'aqueles', 'que', 'discordam', 'dizendo', 'que', 'a', 'democracia', 'atrapalha', 'o', 'crescimento', 'econômico', 'devem', 'argumentar', 'com', 'o', 'exemplo', 'do', 'brasil', 'com', 'os', 'milhões', 'que', 'subiram', 'da', 'pobreza', 'para', 'a', 'classe', 'média', 'não', 'o', 'fizeram', 'numa', 'economia', 'fechada', 'controlada', 'pelo', 'estado', 'mas', 'o', 'fizeram', 'como', 'um', 'povo', 'livre', 'com', 'mercados', 'livres', 'e', 'um', 'governo', 'que', 'responde', 'a', 'seus', 'cidadãos', 'vocês', 'são', 'a', 'prova', 'de', 'que', 'justiça', 'social', 'e', 'inclusão', 'social', 'podem', 'ser', 'melhor', 'conquistadas', 'por', 'meio', 'da', 'liberdade', 'e', 'que', 'a', 'democracia', 'é', 'a', 'maior', 'parceira', 'do', 'progresso', 'humano', 'também', 'acreditamos', 'que', 'em', 'países', 'tão', 'grandes', 'e', 'diversos', 'quanto', 'os', 'nossos', 'moldados', 'por', 'gerações', 'de', 'imigrantes', 'de', 'todas', 'as', 'raças', 'fés', 'e', 'culturas', 'a', 'democracia', 'dá', 'a', 'maior', 'esperança', 'de', 'que', 'todos', 'os', 'cidadãos', 'sejam', 'tratados', 'com', 'dignidade', 'e', 'respeito', 'e', 'que', 'podemos', 'resolver', 'nossas', 'diferenças', 'pacificamente', 'e', 'encontrar', 'força', 'em', 'nossa', 'diversidade', 'nós', 'sabemos', 'nos', 'eua', 'como', 'é', 'importante', 'poder', 'trabalhar', 'juntos', 'mesmo', 'quando', 'discordamos', 'entendo', 'que', 'a', 'forma', 'de', 'governo', 'que', 'escolhemos', 'pode', 'ser', 'lenta', 'e', 'confusa', 'entendemos', 'que', 'a', 'democracia', 'precisa', 'ser', 'fortalecida', 'e', 'aperfeiçoada', 'com', 'o', 'tempo', 'sabemos', 'que', 'diferentes', 'países', 'escolhem', 'caminhos', 'diferentes', 'para', 'atingir', 'a', 'promessa', 'da', 'democracia', 'e', 'entendemos', 'que', 'nenhum', 'país', 'deve', 'impor', 'sua', 'vontade', 'sobre', 'outro', 'mas', 'também', 'sabemos', 'que', 'existem', 'certas', 'aspirações', 'compartilhadas', 'por', 'todo', 'ser', 'humano', 'todos', 'queremos', 'ser', 'livres', 'queremos', 'ser', 'ouvidos', 'todos', 'ansiamos', 'por', 'viver', 'sem', 'medo', 'ou', 'discriminação', 'todos', 'queremos', 'escolher', 'como', 'seremos', 'governados', 'todos', 'querem', 'moldar', 'seu', 'próprio', 'destino', 'esses', 'não', 'são', 'ideais', 'americanos', 'ou', 'ideais', 'brasileiros', 'não', 'são', 'ideais', 'ocidentais', 'são', 'direitos', 'universais', 'e', 'devemos', 'apoiálos', 'em', 'toda', 'parte', 'hoje', 'estamos', 'vendo', 'a', 'luta', 'por', 'esses', 'direitos', 'acontecendo', 'no', 'oriente', 'médio', 'e', 'no', 'norte', 'da', 'áfrica', 'vimos', 'uma', 'revolução', 'nascer', 'de', 'um', 'anseio', 'por', 'dignidade', 'humana', 'básica', 'na', 'tunísia', 'e', 'vimos', 'manifestantes', 'pacíficos', 'homens', 'e', 'mulheres', 'jovens', 'e', 'velhos', 'cristão', 'e', 'muçulmanos', 'ocupando', 'praça', 'tahir', 'e', 'vimos', 'o', 'povo', 'da', 'líbia', 'se', 'defendendo', 'corajosamente', 'contra', 'um', 'regime', 'determinado', 'a', 'tratar', 'com', 'brutalidade', 'seus', 'próprios', 'cidadãos', 'em', 'toda', 'parte', 'vimos', 'jovens', 'se', 'erguendo', 'uma', 'nova', 'geração', 'exigindo', 'o', 'direito', 'de', 'determinar', 'seu', 'próprio', 'futuro', 'desde', 'o', 'início', 'deixamos', 'claro', 'que', 'a', 'mudança', 'que', 'buscam', 'devem', 'ser', 'impulsionadas', 'pelo', 'seu', 'próprio', 'povo', 'mas', 'para', 'nossos', 'dois', 'países', 'para', 'os', 'eua', 'e', 'para', 'o', 'brasil', '–', 'duas', 'nações', 'que', 'passaram', 'muitas', 'gerações', 'lutando', 'para', 'aperfeiçoar', 'suas', 'próprias', 'democracias', '–', 'os', 'eua', 'e', 'o', 'brasil', 'sabem', 'que', 'o', 'futuro', 'de', 'nosso', 'mundo', 'era', 'determinado', 'pelo', 'seu', 'povo', 'ninguém', 'pode', 'dizer', 'ao', 'certo', 'como', 'essa', 'mudança', 'terminará', 'mas', 'eu', 'sei', 'que', 'mudança', 'não', 'é', 'algo', 'que', 'devemos', 'temer', 'quando', 'os', 'jovens', 'insistem', 'que', 'as', 'correntes', 'da', 'história', 'estão', 'se', 'movendo', 'a', 'carga', 'do', 'passado', 'pode', 'ser', 'apagada', 'quando', 'homens', 'e', 'mulheres', 'exigem', 'pacificamente', 'seus', 'direitos', 'humanos', 'nossa', 'humanidade', 'em', 'comum', 'é', 'acentuada', 'onde', 'quer', 'que', 'a', 'luz', 'da', 'liberdade', 'seja', 'acesa', 'o', 'mundo', 'se', 'torna', 'um', 'mais', 'luminoso', 'esse', 'é', 'o', 'exemplo', 'do', 'brasil', 'esse', 'é', 'o', 'exemplo', 'do', 'brasil', 'brasil', 'um', 'país', 'que', 'prova', 'que', 'uma', 'ditadura', 'pode', 'se', 'tornar', 'uma', 'próspera', 'democracia', 'brasil', 'um', 'país', 'que', 'mostra', 'que', 'a', 'democracia', 'entrega', 'liberdade', 'e', 'oportunidade', 'a', 'seu', 'povo', 'brasil', 'um', 'país', 'que', 'mostra', 'que', 'um', 'grito', 'por', 'mudanças', 'vindo', 'das', 'ruas', 'pode', 'mudar', 'uma', 'cidade', 'mudar', 'um', 'país', 'mudar', 'o', 'mundo', 'há', 'décadas', 'foi', 'aqui', 'fora', 'na', 'praça', 'da', 'cinelândia', 'o', 'grito', 'por', 'mudança', 'foi', 'ouvido', 'aqui', 'estudantes', 'e', 'artistas', 'e', 'políticos', 'de', 'todas', 'as', 'correntes', 'ergueram', 'faixas', 'que', 'diziam', '“', 'abaixo', 'a', 'ditadura', '”', 'as', 'pessoas', 'no', 'poder', 'suas', 'aspirações', 'democráticas', 'não', 'seriam', 'realizadas', 'ainda', 'por', 'muito', 'tempo', 'mas', 'um', 'dos', 'jovens', 'brasileiros', 'envolvidos', 'naquele', 'movimento', 'iria', 'mudar', 'para', 'sempre', 'a', 'história', 'deste', 'país', 'a', 'filha', 'de', 'um', 'imigrante', 'sua', 'participação', 'no', 'movimento', 'fez', 'com', 'que', 'fosse', 'presa', 'e', 'torturada', 'por', 'seu', 'próprio', 'governo', 'ela', 'sabe', 'o', 'que', 'é', 'viver', 'sem', 'seus', 'direitos', 'mais', 'básicos', 'pelos', 'quais', 'tantos', 'lutam', 'hoje', 'mas', 'ela', 'também', 'sabe', 'o', 'que', 'é', 'perseverar', 'ela', 'sabe', 'o', 'que', 'é', 'triunfar', 'porque', 'hoje', 'é', 'ela', 'é', 'a', 'presidente', 'de', 'seu', 'país', 'dilma', 'rousseff', 'nossos', 'dois', 'países', 'enfrentam', 'muitos', 'desafios', 'na', 'estrada', 'à', 'nossa', 'frente', 'com', 'certeza', 'encontraremos', 'muitos', 'obstáculos', 'mas', 'no', 'fim', 'é', 'nossa', 'história', 'que', 'nos', 'dá', 'esperança', 'para', 'um', 'amanhã', 'melhor', 'é', 'o', 'conhecimento', 'de', 'que', 'os', 'homens', 'e', 'mulheres', 'que', 'vieram', 'antes', 'de', 'nós', 'superaram', 'desafios', 'maiores', 'que', 'estes', 'e', 'que', 'vivemos', 'em', 'lugares', 'em', 'que', 'pessoas', 'comuns', 'fizeram', 'coisas', 'extraordinárias', 'esse', 'senso', 'de', 'possibilidade', 'e', 'de', 'otimismo', 'que', 'primeiro', 'atraiu', 'pioneiros', 'a', 'este', 'mundo', 'e', 'isso', 'une', 'nossas', 'nações', 'como', 'parceiros', 'nesse', 'novo', 'século', 'por', 'isso', 'acreditamos', 'nas', 'palavras', 'de', 'paulo', 'coelho', 'um', 'de', 'seus', 'mais', 'famosos', 'escritores', 'que', 'com', 'a', 'força', 'de', 'nosso', 'amor', 'e', 'nossa', 'vontade', 'podemos', 'mudar', 'nosso', 'destino', 'e', 'também', 'o', 'destino', 'de', 'muitos', 'outros', '”', 'muito', 'obrigado', 'e', 'que', 'deus', 'abençoe', 'nossas', 'duas', 'nações']\n"
          ]
        }
      ]
    },
    {
      "cell_type": "code",
      "source": [
        "#remover as stopwords\n",
        "nltk.download('stopwords')\n",
        "stopwords = stopwords.words('portuguese')\n",
        "\n",
        "palavras_sem_stop = [p for p in tokenizacao_palavras if p not in stopwords]\n",
        "print(stopwords)"
      ],
      "metadata": {
        "colab": {
          "base_uri": "https://localhost:8080/"
        },
        "id": "ex9kE6vEwDTk",
        "outputId": "0164b067-26c0-4027-e8c5-e07493e840c3"
      },
      "execution_count": 9,
      "outputs": [
        {
          "output_type": "stream",
          "name": "stdout",
          "text": [
            "['a', 'à', 'ao', 'aos', 'aquela', 'aquelas', 'aquele', 'aqueles', 'aquilo', 'as', 'às', 'até', 'com', 'como', 'da', 'das', 'de', 'dela', 'delas', 'dele', 'deles', 'depois', 'do', 'dos', 'e', 'é', 'ela', 'elas', 'ele', 'eles', 'em', 'entre', 'era', 'eram', 'éramos', 'essa', 'essas', 'esse', 'esses', 'esta', 'está', 'estamos', 'estão', 'estar', 'estas', 'estava', 'estavam', 'estávamos', 'este', 'esteja', 'estejam', 'estejamos', 'estes', 'esteve', 'estive', 'estivemos', 'estiver', 'estivera', 'estiveram', 'estivéramos', 'estiverem', 'estivermos', 'estivesse', 'estivessem', 'estivéssemos', 'estou', 'eu', 'foi', 'fomos', 'for', 'fora', 'foram', 'fôramos', 'forem', 'formos', 'fosse', 'fossem', 'fôssemos', 'fui', 'há', 'haja', 'hajam', 'hajamos', 'hão', 'havemos', 'haver', 'hei', 'houve', 'houvemos', 'houver', 'houvera', 'houverá', 'houveram', 'houvéramos', 'houverão', 'houverei', 'houverem', 'houveremos', 'houveria', 'houveriam', 'houveríamos', 'houvermos', 'houvesse', 'houvessem', 'houvéssemos', 'isso', 'isto', 'já', 'lhe', 'lhes', 'mais', 'mas', 'me', 'mesmo', 'meu', 'meus', 'minha', 'minhas', 'muito', 'na', 'não', 'nas', 'nem', 'no', 'nos', 'nós', 'nossa', 'nossas', 'nosso', 'nossos', 'num', 'numa', 'o', 'os', 'ou', 'para', 'pela', 'pelas', 'pelo', 'pelos', 'por', 'qual', 'quando', 'que', 'quem', 'são', 'se', 'seja', 'sejam', 'sejamos', 'sem', 'ser', 'será', 'serão', 'serei', 'seremos', 'seria', 'seriam', 'seríamos', 'seu', 'seus', 'só', 'somos', 'sou', 'sua', 'suas', 'também', 'te', 'tem', 'tém', 'temos', 'tenha', 'tenham', 'tenhamos', 'tenho', 'terá', 'terão', 'terei', 'teremos', 'teria', 'teriam', 'teríamos', 'teu', 'teus', 'teve', 'tinha', 'tinham', 'tínhamos', 'tive', 'tivemos', 'tiver', 'tivera', 'tiveram', 'tivéramos', 'tiverem', 'tivermos', 'tivesse', 'tivessem', 'tivéssemos', 'tu', 'tua', 'tuas', 'um', 'uma', 'você', 'vocês', 'vos']\n"
          ]
        },
        {
          "output_type": "stream",
          "name": "stderr",
          "text": [
            "[nltk_data] Downloading package stopwords to /root/nltk_data...\n",
            "[nltk_data]   Package stopwords is already up-to-date!\n"
          ]
        }
      ]
    },
    {
      "cell_type": "markdown",
      "source": [
        "## Contabilizar as palavras mais frequentes"
      ],
      "metadata": {
        "id": "2RtsmtSDwjdd"
      }
    },
    {
      "cell_type": "code",
      "source": [
        "freq = FreqDist(palavras_sem_stop)\n",
        "freq = freq.most_common(10)\n",
        "print(freq)"
      ],
      "metadata": {
        "colab": {
          "base_uri": "https://localhost:8080/"
        },
        "id": "Cu-rIu9RwjH1",
        "outputId": "1c9df128-e5bd-4085-89a9-3a324825dbe7"
      },
      "execution_count": 10,
      "outputs": [
        {
          "output_type": "stream",
          "name": "stdout",
          "text": [
            "[('brasil', 24), ('país', 18), ('eua', 13), ('aqui', 12), ('mundo', 12), ('povo', 10), ('hoje', 10), ('juntos', 10), ('democracia', 10), ('países', 9)]\n"
          ]
        }
      ]
    },
    {
      "cell_type": "markdown",
      "source": [
        "## Gerando a nuvem de palavras"
      ],
      "metadata": {
        "id": "nVXZpI1kw6KM"
      }
    },
    {
      "cell_type": "code",
      "source": [
        "nuvem_palavras = WordCloud(background_color='white',stopwords = stopwords,height=1080,width=1080,max_words=30)\n",
        "nuvem_palavras.generate(texto)\n",
        "nuvem_palavras.to_file('saida_nuvem.png')"
      ],
      "metadata": {
        "colab": {
          "base_uri": "https://localhost:8080/"
        },
        "id": "FF9RnIyDw5dV",
        "outputId": "ec36c7df-3192-45a3-a7ec-9cb3d469c3f5"
      },
      "execution_count": 12,
      "outputs": [
        {
          "output_type": "execute_result",
          "data": {
            "text/plain": [
              "<wordcloud.wordcloud.WordCloud at 0x7f3052534040>"
            ]
          },
          "metadata": {},
          "execution_count": 12
        }
      ]
    }
  ]
}